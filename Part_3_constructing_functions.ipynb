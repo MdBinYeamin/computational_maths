{
  "cells": [
    {
      "cell_type": "markdown",
      "metadata": {
        "id": "view-in-github",
        "colab_type": "text"
      },
      "source": [
        "<a href=\"https://colab.research.google.com/github/jermwatt/computational_maths/blob/collab/Part_3_constructing_functions.ipynb\" target=\"_parent\"><img src=\"https://colab.research.google.com/assets/colab-badge.svg\" alt=\"Open In Colab\"/></a>"
      ]
    },
    {
      "cell_type": "markdown",
      "metadata": {
        "id": "ic6B1wYLaXCu"
      },
      "source": [
        "## Computational Mathematics "
      ]
    },
    {
      "cell_type": "markdown",
      "metadata": {
        "id": "PF16w08faXCx"
      },
      "source": [
        "# Part 3: Computation graphs and the construction of endlessly complex functions"
      ]
    },
    {
      "cell_type": "markdown",
      "metadata": {
        "id": "HnNODG2eaXCy"
      },
      "source": [
        "In the previous post we learned about elementary functions like polynomials, reciprocal functions, trigonometric functions, and more, shown in Table 1 below for easy reference."
      ]
    },
    {
      "cell_type": "markdown",
      "metadata": {
        "id": "H2QNfaiOaXCy"
      },
      "source": [
        " <center>\n",
        "     <caption>Table 1: Elementary functions</caption>\n",
        " </center>\n",
        "  \n",
        "<table>\n",
        "  <col width=\"180\">\n",
        "  <col width=\"100\">\n",
        "<thead>\n",
        "<tr>\n",
        "    <th>elementary function</th>\n",
        "    <th>equation</th> \n",
        "  </tr>\n",
        "  </thead>\n",
        "  <tbody>\n",
        "    <tr>\n",
        "    <td>constant</td>\n",
        "    <td>$c$</td>\n",
        "  </tr>\n",
        "  <tr>\n",
        "    <td>monomial (degree $p\\neq 0$)</td>\n",
        "    <td>$x^p$</td>\n",
        "  </tr>\n",
        "    <tr>\n",
        "    <td>sine</td>\n",
        "    <td>$\\text{sin}(x)$</td>\n",
        "  </tr>\n",
        "  <tr>\n",
        "    <td>cosine</td>\n",
        "    <td>$\\text{cos}(x)$</td>\n",
        "  </tr>\n",
        "  <tr>\n",
        "    <td>exponential</td>\n",
        "    <td>$e^x$</td>\n",
        "  </tr>\n",
        "  <tr>\n",
        "    <td>logarithm</td>\n",
        "    <td>$\\text{log}(x)$</td>\n",
        "  </tr>\n",
        "    <tr>\n",
        "    <td>hyperbloic tangent</td>\n",
        "    <td>$\\text{tanh}(x)$</td>\n",
        "  </tr>\n",
        "      <tr>\n",
        "    <td>rectified linear unit (ReLU) </td>\n",
        "    <td>$\\text{max}\\left(0,x\\right)$</td>\n",
        "  </tr>\n",
        "  </tbody>\n",
        "</table>"
      ]
    },
    {
      "cell_type": "markdown",
      "metadata": {
        "id": "QayouOxsaXCz"
      },
      "source": [
        "We also learned about basic operations such as addition, multiplcation, max/min, composition, etc., which we summarize here in Table 2."
      ]
    },
    {
      "cell_type": "markdown",
      "metadata": {
        "id": "rjBb808IaXC0"
      },
      "source": [
        " <center>\n",
        "     <caption>Table 2: Elementary operations</caption>\n",
        " </center>\n",
        " \n",
        "<table>\n",
        "  <col width=\"350\">\n",
        "  <col width=\"120\">\n",
        "<thead>\n",
        "<tr>\n",
        "    <th>operation</th> \n",
        "    <th>equation</th>\n",
        "  </tr>\n",
        "  </thead>\n",
        "  <tbody>\n",
        "  <tr>\n",
        "    <td> addition of a constant $c$ to the function $f(x)$ </td>\n",
        "    <td> $c + f(x)$</td>\n",
        "  </tr> \n",
        "    <tr>\n",
        "    <td> multiplication of the function $f(x)$ by a constant $c$ </td>\n",
        "    <td> $c\\,f(x)$</td>\n",
        "  </tr> \n",
        "  <tr>\n",
        "  <td>addition of the functions $f(x)$ and $g(x)$</td>\n",
        "    <td> $f(x) + g(x)$ </td>\n",
        "  </tr> \n",
        "  <tr>\n",
        "  <td> multiplication of the functions $f(x)$ and $g(x)$ </td>\n",
        "    <td> $f(x)\\, g(x)$ </td>\n",
        "  </tr>  \n",
        "   <tr>\n",
        "  <td> maximum of the functions $f(x)$ and $g(x)$</td>\n",
        "    <td> $\\text{max}\\left(f(x),g(x)\\right)$ </td>\n",
        "  </tr>\n",
        "  <tr>\n",
        "  <td> composition of the function $f(x)$ with the function $g(x)$</td>\n",
        "    <td> $f(g(x))$ </td>\n",
        "  </tr>\n",
        "  </tbody>\n",
        "</table>"
      ]
    },
    {
      "cell_type": "markdown",
      "metadata": {
        "id": "nXZCtAS-aXC0"
      },
      "source": [
        "Introducing the idea of a computation graph, in this post we combine functions and operations listed in these two Tables in order to construct new functions of arbitrary complexity. The same thinking also allows us to deconstruct generic functions into their elementary functions and operations in a consistent manner.  This basic idea arises throughout machine learning: from the design Automatic Differentiation algorithms to the design of novel neural network architectures."
      ]
    },
    {
      "cell_type": "code",
      "execution_count": null,
      "metadata": {
        "collapsed": true,
        "id": "AgPgv95qaXC1"
      },
      "outputs": [],
      "source": [
        "# import standard libs\n",
        "import os\n",
        "from pathlib import Path \n",
        "import pandas as pd\n",
        "import numpy as np\n",
        "from IPython.display import Image\n",
        "import matplotlib.pyplot as plt\n",
        "from mpl_toolkits.mplot3d import Axes3D\n",
        "\n",
        "# setup steps if running on local machine / container\n",
        "if not os.getenv(\"COLAB_RELEASE_TAG\"):\n",
        "    # make sure autograd is installed on machine / container\n",
        "    !pip3 install autograd\n",
        "    \n",
        "    # append path to data / custom library\n",
        "    import sys\n",
        "    sys.path.append('../')\n",
        "    \n",
        "    # import custom library\n",
        "    from compmaths_libraries import basics_library as baslib\n",
        "else: # # setup steps if running on collab\n",
        "    # install github clone - allows for easy cloning of subdirectories\n",
        "    !pip install github-clone\n",
        "\n",
        "    # clone library subdirectory\n",
        "    if not Path('compmaths_libraries').is_dir():\n",
        "      !ghclone https://github.com/jermwatt/computational_maths/tree/collab/compmaths_libraries \n",
        "    else:\n",
        "      print('compmaths_libraries already cloned!')\n",
        "\n",
        "    from compmaths_libraries import basics_library as baslib\n",
        "\n",
        "    # clone datasets\n",
        "    if not Path('compmaths_data').is_dir():\n",
        "      !ghclone https://github.com/jermwatt/computational_maths/tree/collab/compmaths_data\n",
        "    else:\n",
        "      print('compmaths_data already cloned!')\n",
        "\n",
        "    # clone work images\n",
        "    if not Path('compmaths_images').is_dir():\n",
        "      !ghclone https://github.com/jermwatt/computational_maths/tree/collab/compmaths_images\n",
        "    else:\n",
        "      print('compmaths_images already cloned!')\n",
        "\n",
        "    # clone demo output images\n",
        "    if not Path('demo_images').is_dir():\n",
        "      !ghclone https://github.com/jermwatt/computational_maths/tree/collab/demo_images\n",
        "    else:\n",
        "      print('demo_images already cloned!')"
      ]
    },
    {
      "cell_type": "markdown",
      "metadata": {
        "id": "q5akWJYMaXC2"
      },
      "source": [
        "# 1.   Computational graphs for arithmetic "
      ]
    },
    {
      "cell_type": "markdown",
      "metadata": {
        "id": "XBlloU_vaXC3"
      },
      "source": [
        "How do you compute the numerical value of\n",
        "\n",
        "$$ 5*2^3 + 1 $$\n",
        "\n",
        "There is a lot going on here, with three mathematical operations for numbers present - multiplication, exponentiation, and addition - how do we know which to perform first, second, and third?  If we perform the multoplication first, then exponentiation, and then addition we get\n",
        "\n",
        "$$ 5*2^3 + 1 = \\left(\\left(5*2\\right)^3\\right)+1 = \\left(10^3\\right)+1 = 1000 + 1 = 1001$$\n",
        "\n",
        "\n",
        "But if we exponentiate first, then multiply, then add we get \n",
        "\n",
        "$$ 5*2^3 + 1 = \\left(5*\\left(2^3\\right)\\right)+1 = \\left(5*8\\right)+1 = 40 + 1 = 41$$\n",
        "\n",
        "Performing Exponentiation first, followed by addition and then multplication gives yet another result\n",
        "\n",
        "$$ 5*2^3 + 1 = 5*\\left(\\left(2^3\\right)+1\\right) = 5*\\left(8+1\\right) = 5 * 9 = 45$$\n",
        "\n",
        "\n",
        "\n",
        "In other words, depending on the order in which we employ operations we can end up with different results.  In secondary school you learn the conventional order for evaluating arithmetic expressions: parenthesis first, then exponentiation, then multiplication/division, and finally addition/subtraction. With this conventional order of operations our second result above is correct.  \n",
        "\n",
        "The way these operations are performed computationally - i.e., either when we perform the calculation by hand or when we let a computer handle it - can be expressed visually using a *computational graph*.  This is an often employed tool that visualizes all sorts of computational algorithms - in particular basic arithmetic - and is used throughout machine learning to help visualize computation."
      ]
    },
    {
      "cell_type": "markdown",
      "metadata": {
        "id": "XaQGhRZdaXC3"
      },
      "source": [
        "## 1.1  Example computations"
      ]
    },
    {
      "cell_type": "markdown",
      "metadata": {
        "id": "KKX-3h8xaXC4"
      },
      "source": [
        "In this short subsection we look at a few examples with arithmetic to get a basic intuition as to how they work in tandem with computation graphs.  Along the way we will learn important concepts and language to describe computation graphs as well."
      ]
    },
    {
      "cell_type": "markdown",
      "metadata": {
        "id": "mu99OaV0aXC4"
      },
      "source": [
        "#### <span style=\"color:#a50e3e;\">Example. </span>  Building a computation graph for $2\\times3 + 5$ "
      ]
    },
    {
      "cell_type": "markdown",
      "metadata": {
        "id": "qJlAR6CeaXC4"
      },
      "source": [
        "Following the order of operations we can break apart the expression $2\\times3 + 5$ operation-by-operation. Because multiplication takes precedence to addition we first perform multiplication to get \n",
        "\n",
        "\n",
        "\\begin{array}\n",
        "\\\n",
        "a = 2\\times 3 \\\\\n",
        "\\end{array} \n",
        "\n",
        "Then we add 5 to this product (stored in the variable $a$)\n",
        "\n",
        "\\begin{array}\n",
        "\\\n",
        "b = a + 5  \\\\\n",
        "\\end{array} \n",
        "\n",
        "All together we have \n",
        "\n",
        "\\begin{array}\n",
        "\\\n",
        "a = 2\\times 3 \\\\\n",
        "b = a + 5  \\\\\n",
        "\\end{array} \n",
        "\n",
        "where $b$ represents the desired arithmetic $2\\times3 + 5$ completely.\n",
        "\n",
        "We can plot this set of equations as the graph shown below which gives us a visual perspective on the computation.\n",
        "\n",
        "<p><img src=\"https://github.com/jermwatt/computational_maths/blob/collab/compmaths_images/numbers_graph_1.png?raw=1\" width=\"25%\" height=\"auto\"></p>"
      ]
    },
    {
      "cell_type": "markdown",
      "metadata": {
        "id": "qma-ZoIDaXC5"
      },
      "source": [
        "A bit of nomenclature regarding the visual computation graph: the circles containing input values and operations are referred to as *nodes*, with the directed arrows called *edges*.  \n",
        "\n",
        "> When visualizing the computation graphs circles containing inputs, operations, or functions are referred as *nodes* with directed arrows called *edges*. \n",
        "\n",
        "Those nodes containing operations correspond one-to-one with the equation view of the graph shown above, with the letter denoting each equation shown above its corresponding node on the graph.\n",
        "\n",
        "To further describe the local topology of a computation graphs in words the terms *parent* and *child* node are used to describe adjacent hierarchical relationships, or in other words two nodes connected in a graph by a single edge.  The parent node is the one taking in the other node as input, or where the arrow points to.  The child node is the input of the parent, or where the arrow originates.  Because these terms / relationships are defined locally a particular node can be both a parent and a child with respect to other nodes in the graph. \n",
        "\n",
        "> To further describe the local topology of a computation graphs in words the terms *parent* and *child* node are used to describe adjacent hierarchical relationships, or in other words two nodes connected in a graph by a single edge.  The parent node is the one taking in the other node as input, or where the arrow points to.  The child node is the input of the parent, or where the arrow originates.  Because these terms / relationships are defined locally a particular node can be both a parent and a child with respect to other nodes in the graph. "
      ]
    },
    {
      "cell_type": "markdown",
      "metadata": {
        "id": "XfsQGyaVaXC5"
      },
      "source": [
        "Lets use this computation graph vocabulary to describe what is going on in the computation graph shown above for $2\\times3 + 5$. Examining the graph we can see how $a$ takes in both $2$ and $3$, and so $a$ is the parent node to the children $2$ and $3$. Examining how $a$ and $b$ are related we can see that $a$ is a child node here, with $b$ being its parent as well as the parent of $5$."
      ]
    },
    {
      "cell_type": "markdown",
      "metadata": {
        "id": "kIxAA4DUaXC5"
      },
      "source": [
        "----"
      ]
    },
    {
      "cell_type": "markdown",
      "metadata": {
        "id": "q5onNK1paXC6"
      },
      "source": [
        "#### <span style=\"color:#a50e3e;\">Example. </span>  A computation graph for $\\text{tanh}(1.5)\\text{cos}(1.5) + \\text{log}(1.5)$"
      ]
    },
    {
      "cell_type": "markdown",
      "metadata": {
        "id": "xxcXgKrHaXC6"
      },
      "source": [
        "In this example we have an arithmetic expression that contains function evaluations as well. We treat arithmetic expressions containing function evaluation(s) with the same order of operations - treating each function evaluation as a parenthesis applying the same operation rules inside them before simplifying the rest of the arithmetic.\n",
        "\n",
        "Following the order of operations we can break apart the expression $\\text{tanh}(1.5)\\text{cos}(1.5) + \\text{log}(1.5)$ operation-by-operation into the list of equations capturing the parent/child relations as\n",
        "\n",
        "\\begin{array}\n",
        "\\\n",
        "a = \\text{tanh}(1.5) \\\\\n",
        "b = \\text{cos}(1.5) \\\\\n",
        "c = \\text{log}(1.5) \\\\\n",
        "d = a\\times b \\\\\n",
        "e = d + c \\\\\n",
        "\\end{array} \n",
        "\n",
        "which corresponds to the following computation graph."
      ]
    },
    {
      "cell_type": "markdown",
      "metadata": {
        "id": "m34fJcFBaXC6"
      },
      "source": [
        "<p><img src=\"https://github.com/jermwatt/computational_maths/blob/collab/compmaths_images/graph_eval.png?raw=1\" width=\"80%\" height=\"auto\"></p>"
      ]
    },
    {
      "cell_type": "markdown",
      "metadata": {
        "id": "VrGt7eO1aXC6"
      },
      "source": [
        "Take a moment to verify that the computation graph above indeed represents the expression $\\text{tanh}(1.5)\\text{cos}(1.5) + \\text{log}(1.5)$. Again every node (except the input node in gray) contains an operation: the nodes $d$ and $e$ contain the operations multiplication and addition, while the nodes $a$, $b$, and $c$ contain composition with $\\text{tanh}$, $\\text{cos}$, and $\\text{log}$, repectively. In general, when any of the elementary functions appear in a node, that node represents the composition of that elementary function with its input.   \n",
        "\n",
        "We can now use the computation graph to evaluate the expression $\\text{tanh}(1.5)\\text{cos}(1.5) + \\text{log}(1.5)$. To do so, we start from the input node (shown in gray) on the left and wiggle our way to the rightmost node $e$.\n",
        "\n",
        "With the first parent-child equation we have $a = \\text{tanh}(1.5) = 0.905$, which can be shown on the computation graph as follows \n",
        "\n",
        "<p><img src=\"https://github.com/jermwatt/computational_maths/blob/collab/compmaths_images/graph_a.png?raw=1\" width=\"80%\" height=\"auto\"></p>\n",
        "\n",
        "where the parent and child nodes are highlighted in red and blue, respectively.\n",
        "\n",
        "Moving on to the second equation we have $b = \\text{cos}(1.5) = 0.701$\n",
        "\n",
        "<p><img src=\"https://github.com/jermwatt/computational_maths/blob/collab/compmaths_images/graph_b.png?raw=1\" width=\"80%\" height=\"auto\"></p>\n",
        "\n",
        "The third and last parent of the input node is the node $c$ whose value is found as $c = \\text{log}(1.5)\\approx 0.176$ \n",
        "\n",
        "<p><img src=\"https://github.com/jermwatt/computational_maths/blob/collab/compmaths_images/graph_c.png?raw=1\" width=\"80%\" height=\"auto\"></p>\n",
        "\n",
        "Continuning our evaluation, next we get to the node $d$ that has two children: nodes $a$ and $b$, whose values are already found. Therefore we have $d = a \\times b \\ = 0.905 \\times 0.701 = 0.634$  \n",
        "\n",
        "<p><img src=\"https://github.com/jermwatt/computational_maths/blob/collab/compmaths_images/graph_d.png?raw=1\" width=\"80%\" height=\"auto\"></p>\n",
        "\n",
        "Finally, the node $e$ can be evaluated using the values of its children, nodes $c$ and $d$, as $e=d+c= 0.634+0.176=0.810$.\n",
        "\n",
        "<p><img src=\"https://github.com/jermwatt/computational_maths/blob/collab/compmaths_images/graph_e.png?raw=1\" width=\"80%\" height=\"auto\"></p>\n",
        "\n",
        "\n",
        "As you see here in this example, the final value of a mathematical expression is found by moving forward (from left to right) through the computation graph. "
      ]
    },
    {
      "cell_type": "markdown",
      "metadata": {
        "id": "DIgA7akLaXC7"
      },
      "source": [
        "#### <span style=\"color:#a50e3e;\">Example. </span>  Deriving a mathematical expression from its computation graph "
      ]
    },
    {
      "cell_type": "markdown",
      "metadata": {
        "id": "pvRs4V52aXC7"
      },
      "source": [
        "So far in our examples we always started with a mathematical expression and built its computation graph. We can also do the reverse, that is, start with a computational graph and form the mathematical expression it represents. Take the computation graph below for example. \n",
        "\n",
        "<p><img src=\"https://github.com/jermwatt/computational_maths/blob/collab/compmaths_images/reverse_0.png?raw=1\" width=\"70%\" height=\"auto\"></p>\n",
        "\n",
        "Once again starting at the first input node (containing the number $1.5$) and moving forward through the graph we can build up the mathematical expression step by step. This progression is visually depicted in the series of figures below. \n",
        "\n",
        "<p><img src=\"https://github.com/jermwatt/computational_maths/blob/collab/compmaths_images/reverse_1.png?raw=1\" width=\"70%\" height=\"auto\"></p>\n",
        "\n",
        "---\n",
        "\n",
        "<p><img src=\"https://github.com/jermwatt/computational_maths/blob/collab/compmaths_images/reverse_2.png?raw=1\" width=\"70%\" height=\"auto\"></p>\n",
        "\n",
        "---\n",
        "\n",
        "<p><img src=\"https://github.com/jermwatt/computational_maths/blob/collab/compmaths_images/reverse_3.png?raw=1\" width=\"70%\" height=\"auto\"></p>\n",
        "\n",
        "---\n",
        "\n",
        "<p><img src=\"https://github.com/jermwatt/computational_maths/blob/collab/compmaths_images/reverse_4.png?raw=1\" width=\"70%\" height=\"auto\"></p>\n",
        "\n",
        "---\n"
      ]
    },
    {
      "cell_type": "markdown",
      "metadata": {
        "id": "AVZ9BbK7aXC7"
      },
      "source": [
        "Hence our computation graph represents the expression \n",
        "$$\n",
        "\\text{cos}\\left(\\left(1.5\\right)^2 + \\left(-1\\right)^2\\right) \n",
        "$$"
      ]
    },
    {
      "cell_type": "markdown",
      "metadata": {
        "id": "HviWQLpmaXC7"
      },
      "source": [
        "Every mathematical expression has a corresponding computation graph and vice versa."
      ]
    },
    {
      "cell_type": "markdown",
      "metadata": {
        "id": "2xc4foDkaXC7"
      },
      "source": [
        "## 1.2  Summary"
      ]
    },
    {
      "cell_type": "markdown",
      "metadata": {
        "id": "2Ww_2NgUaXC8"
      },
      "source": [
        "We have just seen how a computation graph gives us a second more visual way of understanding the computation involved in arithmetic expressions, including those containing function evaluations.  Moreover they allow us to break down or build arbitrarily complex expressions - involving many different values, operations, and functions - using a sequence of simple steps of a computation graph.  These simple steps are each an equation  - as illustrated in the examples here - and each *always* consists of one or two numerical values and an operation (e.g., addition, multiplication, etc.,) or function evaluation.  Furthermore, visualizing the computation graph becomes the best way organize even moderately complex parent-child relations as opposed to listing the relationships as a vertical column of equations.\n",
        "\n",
        "> The computation graph allows us to construct or deconstruct complex arithmetic expressions using a sequences of simple parent-child equations consisting of one or two numerical values and an operation (e.g., addition, multiplication, etc.,) or function evaluation.  Visualizing the computation graph is the best way to organize even moderately complex parent-child relations."
      ]
    },
    {
      "cell_type": "markdown",
      "metadata": {
        "id": "SlbfZR9OaXC8"
      },
      "source": [
        "We have also learned vocabulary terms *parent* and *child* node to describe the local hierarchical structure of a computation graph."
      ]
    },
    {
      "cell_type": "markdown",
      "metadata": {
        "id": "_tL2n7-naXC8"
      },
      "source": [
        "As mentioned, we will see computation graphs offer an equally helpful view of many other important algorithmic ideas and yields similar benefit, like the construction of arbitrarily complex functions discussed in the next Section."
      ]
    },
    {
      "cell_type": "markdown",
      "metadata": {
        "id": "oxkTgJ-5aXC8"
      },
      "source": [
        "# 2. Constructing endlessly complex functions out of elementary parts"
      ]
    },
    {
      "cell_type": "markdown",
      "metadata": {
        "id": "sSc3XJNiaXC8"
      },
      "source": [
        "In this Section we discuss how one can take various elementary functions and operations and combine them to create infinitely complex functions.  The framework for doing this mirrors the previous Section's examples of evaluating arithmetic expressions almost completely - including the use of computation graphs / deconstructed lists of equations to illustrate each operation / elementary function used.  The main difference here is that our input is now a variable or set of variables.\n",
        "\n",
        "But overall we will see here that the computation graph allows us to construct / deconstruct complex functions using a nested composition of simple parent-child equations that are composed together, each consisting of one or two inputs and an operation (e.g., addition, multiplication, etc.,) or elementary function transformation. \n",
        "\n",
        "> The computation graph allows us to construct or deconstruct complex functions using a *nested composition of parent-child equations* consisting of one or two inputs and an operation (e.g., addition, multiplication, etc.,) or elementary function transformation. "
      ]
    },
    {
      "cell_type": "markdown",
      "metadata": {
        "id": "eKnw1QPdaXC8"
      },
      "source": [
        "## 2.1  Example functions"
      ]
    },
    {
      "cell_type": "markdown",
      "metadata": {
        "id": "HOv-cnA_aXC8"
      },
      "source": [
        "In this short subsection we look at a few examples of how one can use a computation graph mindset to both deconstruct and construct generic functions from elementary parts.  We do this by example to gain the basic intuition as to how this is done."
      ]
    },
    {
      "cell_type": "markdown",
      "metadata": {
        "id": "2igx28d4aXC9"
      },
      "source": [
        "#### <span style=\"color:#a50e3e;\">Example. </span> Building a computation graph for   $f(x) = \\text{tanh}(x)\\text{cos}(x) + \\text{log}(x)$"
      ]
    },
    {
      "cell_type": "markdown",
      "metadata": {
        "id": "lQ6aAJsDaXC9"
      },
      "source": [
        "In the previous Section we saw a numerical example mirroring this one. Therefore the computation graph takes the following simliar form \n",
        "\n",
        "<p><img src=\"https://github.com/jermwatt/computational_maths/blob/collab/compmaths_images/equation_graph_2.png?raw=1\" width=\"40%\" height=\"auto\"></p>\n",
        "\n",
        "with the only difference being that now our input node contains the variable $x$ instead of a particular numerical value. The parent-child equations can be written similarly as \n",
        "\n",
        "\n",
        "\\begin{array}\n",
        "\\\n",
        "a = \\text{tanh}(x) \\\\\n",
        "b = \\text{cos}(x) \\\\\n",
        "c = \\text{log}(x) \\\\\n",
        "d = a\\times b \\\\\n",
        "e = d + c \\\\\n",
        "\\end{array} \n"
      ]
    },
    {
      "cell_type": "markdown",
      "metadata": {
        "id": "b3FwtFOsaXC9"
      },
      "source": [
        "Computationally speaking in order to plot this function note we can either use the full form of the equation or the list of parent-child equations. We plot both versions side by side in the Python cell below."
      ]
    },
    {
      "cell_type": "code",
      "execution_count": 2,
      "metadata": {
        "id": "yiIAH7yFaXC9",
        "outputId": "cde56aac-33a6-4bf6-f00e-1edb621376b6",
        "colab": {
          "base_uri": "https://localhost:8080/",
          "height": 377
        }
      },
      "outputs": [
        {
          "output_type": "display_data",
          "data": {
            "text/plain": [
              "<Figure size 1080x360 with 2 Axes>"
            ],
            "image/png": "[encoded data removed]"
          },
          "metadata": {
            "needs_background": "light"
          }
        }
      ],
      "source": [
        "# specify range of input for our functions\n",
        "x = np.linspace(0.1,5,200)\n",
        "x.shape = (len(x),1)\n",
        "\n",
        "# create function using full equation\n",
        "f1 = np.tanh(x)*np.cos(x) + np.log(x)\n",
        "\n",
        "# generate plot using parent-child equations\n",
        "a = np.tanh(x)\n",
        "b = np.cos(x)\n",
        "c = np.log(x)\n",
        "d = a*b\n",
        "e = d + c\n",
        "\n",
        "# reshape each form and stack into table\n",
        "f1.shape = (len(f1),1)\n",
        "table1 = np.stack((x,f1), axis=1) \n",
        "e.shape = (len(e),1)\n",
        "table2 = np.stack((x,e),axis=1)\n",
        "\n",
        "# use custom plotter to show both functions\n",
        "baslib.basics_plotter.double_plot(table1 = table1, table2 = table2,plot_type = 'continuous',xlabel = '$x$',ylabel_1 = '$f_1$',ylabel_2 = '$e$',fontsize = 18)"
      ]
    },
    {
      "cell_type": "markdown",
      "metadata": {
        "collapsed": true,
        "id": "m2Oku7G9aXC-"
      },
      "source": [
        "#### <span style=\"color:#a50e3e;\">Example. </span> Deriving a function's equation from its computation graph "
      ]
    },
    {
      "cell_type": "markdown",
      "metadata": {
        "id": "uZcwaCWlaXC-"
      },
      "source": [
        "Given the following computation graph "
      ]
    },
    {
      "cell_type": "markdown",
      "metadata": {
        "id": "sSRGlGdmaXC-"
      },
      "source": [
        "<p><img src=\"https://github.com/jermwatt/computational_maths/blob/collab/compmaths_images/reverse_func_0.png?raw=1\" width=\"80%\" height=\"auto\"></p>"
      ]
    },
    {
      "cell_type": "markdown",
      "metadata": {
        "id": "fUN2KNwKaXC-"
      },
      "source": [
        "we can easily complete the equation it represents by navigating the graph forward, starting from the input node $x_1$.  \n",
        "\n",
        "<p><img src=\"https://github.com/jermwatt/computational_maths/blob/collab/compmaths_images/reverse_func_1.png?raw=1\" width=\"80%\" height=\"auto\"></p>\n",
        "\n",
        "---\n",
        "\n",
        "<p><img src=\"https://github.com/jermwatt/computational_maths/blob/collab/compmaths_images/reverse_func_2.png?raw=1\" width=\"80%\" height=\"auto\"></p>\n",
        "\n",
        "---\n",
        "\n",
        "<p><img src=\"https://github.com/jermwatt/computational_maths/blob/collab/compmaths_images/reverse_func_3.png?raw=1\" width=\"80%\" height=\"auto\"></p>\n",
        "\n",
        "---\n",
        "\n",
        "<p><img src=\"https://github.com/jermwatt/computational_maths/blob/collab/compmaths_images/reverse_func_4.png?raw=1\" width=\"80%\" height=\"auto\"></p>"
      ]
    },
    {
      "cell_type": "markdown",
      "metadata": {
        "id": "cxRhscdDaXC_"
      },
      "source": [
        "In other words, our equation is\n",
        "\n",
        "$$\n",
        "f(x) = \\text{cos}(x_1^2 + x_2^2)\n",
        "$$\n",
        "\n",
        "which we plot in the next Python cell.  Note that the default viewing angle here has been set to a bird's eye view - looking down on the function directly from above."
      ]
    },
    {
      "cell_type": "code",
      "execution_count": 3,
      "metadata": {
        "id": "XeCcto_laXC_",
        "outputId": "afc2b979-3ffa-4af3-d3ce-09fc06288bc7",
        "colab": {
          "base_uri": "https://localhost:8080/",
          "height": 303
        }
      },
      "outputs": [
        {
          "output_type": "display_data",
          "data": {
            "text/plain": [
              "<Figure size 360x360 with 1 Axes>"
            ],
            "image/png": "[encoded data removed]"
          },
          "metadata": {
            "needs_background": "light"
          }
        }
      ],
      "source": [
        "# what function should we play with?  Defined in the next line.\n",
        "f = lambda x: np.cos( x[0]**2 + x[1]**2)\n",
        "\n",
        "# create an instance of the visualizer with this function\n",
        "opt_test = baslib.math_function_plotting_3d.visualizer()\n",
        "\n",
        "# run\n",
        "view = [-90,45]\n",
        "input_range = np.linspace(-5,5,1000) \n",
        "opt_test.draw_it(g = f,set_figsize = 5,set_axis = 'off',view = view,input_range=input_range)  # other options: horiz_1_label = 'horizontal_1',horiz_2_label = 'horizontal_2',vert_label = 'vertical',set_title = 'my title')"
      ]
    },
    {
      "cell_type": "markdown",
      "metadata": {
        "id": "K2CsA0AyaXC_"
      },
      "source": [
        "#### <span style=\"color:#a50e3e;\">Example. </span>  Constructing a new function out of elementary parts "
      ]
    },
    {
      "cell_type": "markdown",
      "metadata": {
        "id": "RtuPaoifaXC_"
      },
      "source": [
        "What can we build using a short list of elementary parts - including addition / subtraction / multiplication / division, and a few elementary functions?  We have a great number of choices with how to start, but lets begin by defining two child nodes and go from there.\n",
        "\n",
        "We start with multiplication by a constant \n",
        "\n",
        "$$\n",
        "a(x) = 20\\times x\n",
        "$$\n",
        "\n",
        "<p><img src=\"https://github.com/jermwatt/computational_maths/blob/collab/compmaths_images/construct_a.png?raw=1\" width=\"80%\" height=\"auto\"></p>\n",
        "\n",
        "and another child node that creating that squares the input as\n",
        "\n",
        "$$\n",
        "b(x) = x^2\n",
        "$$\n",
        "\n",
        "<p><img src=\"https://github.com/jermwatt/computational_maths/blob/collab/compmaths_images/construct_b.png?raw=1\" width=\"80%\" height=\"auto\"></p>\n",
        "\n",
        "Now we have two child nodes, both transformations of the input $x$.  Next, lets shove $a$ through a cosine function, and add 1 to $b$ giving two parent nodes\n",
        "\n",
        "$$\n",
        "c(a) = \\text{cos}(a)\\\\\n",
        "d(b) = b + 1 \\\\\n",
        "$$\n",
        "\n",
        "<p><img src=\"https://github.com/jermwatt/computational_maths/blob/collab/compmaths_images/construct_c_d.png?raw=1\" width=\"80%\" height=\"auto\"></p>\n",
        "\n",
        "Finally lets make a division parent for $d$, and multiply the result by $c$ as \n",
        "\n",
        "$$\n",
        "e(d) = \\frac{1}{d} \\\\\n",
        "f(c,e) = c\\times e \\\\\n",
        "$$\n",
        "\n",
        "<p><img src=\"https://github.com/jermwatt/computational_maths/blob/collab/compmaths_images/construct_e_f.png?raw=1\" width=\"80%\" height=\"auto\"></p>\n",
        "\n",
        "giving the final parent node $f$.  All together then, we have made a set of parent-child equations (note here we will leave off the parentheses on the left side denoting input for readability purposes since the associated input of each equation is clear from the right hand side of each equation)\n",
        "\n",
        "\\begin{array}\n",
        "\\\n",
        "a = 20 \\times x \\\\\n",
        "b = x^2 \\\\\n",
        "c = \\text{cos}(a)\\\\\n",
        "d = b + 1 \\\\\n",
        "e = \\frac{1}{d} \\\\\n",
        "f = c\\times e \\\\\n",
        "\\end{array}\n",
        "\n",
        "Of course this is an inferior way of detailing these parent-child relationships, which are better expressed by visualizing the graph as shown above."
      ]
    },
    {
      "cell_type": "markdown",
      "metadata": {
        "id": "ojHfUZvDaXDA"
      },
      "source": [
        "We plot the full function\n",
        "\n",
        "$$\n",
        "g(x) = \\frac{\\text{cos}(20x)}{x^2 + 1}\n",
        "$$\n",
        "\n",
        "in the next Python cell."
      ]
    },
    {
      "cell_type": "code",
      "execution_count": 4,
      "metadata": {
        "id": "myuqyMlIaXDA",
        "outputId": "13f50bea-1566-4aa8-e2f1-3c36df7cc6ad",
        "colab": {
          "base_uri": "https://localhost:8080/",
          "height": 294
        }
      },
      "outputs": [
        {
          "output_type": "display_data",
          "data": {
            "text/plain": [
              "<Figure size 936x360 with 3 Axes>"
            ],
            "image/png": "[encoded data removed]"
          },
          "metadata": {
            "needs_background": "light"
          }
        }
      ],
      "source": [
        "# specify range of input for our function\n",
        "x = np.linspace(-3,3,500)\n",
        "\n",
        "# form the equation\n",
        "g = np.cos(20*x)/(x**2 + 1)\n",
        "\n",
        "# make a table of values for our function\n",
        "table1 = np.stack((x,g), axis=1)  \n",
        "\n",
        "# use custom plotter to display function\n",
        "baslib.basics_plotter.single_plot(table = table1,xlabel = '$x$',ylabel = 'g',rotate_ylabel = 0)"
      ]
    },
    {
      "cell_type": "markdown",
      "metadata": {
        "id": "4iqniYPXaXDA"
      },
      "source": [
        "## 2.2 Section summary"
      ]
    },
    {
      "cell_type": "markdown",
      "metadata": {
        "id": "zEhP60_ZaXDA"
      },
      "source": [
        "As with arithmetic expressions, we have now seen how to construct / deconstruct complex equations into their elementary parts using the computation graph.  This shows how complex equations can be constructed from sequentially composed parent-child equations, where each equation consists of either one or two inputs and an operation of function transformation.  Moreover we saw how in particular how any function can be represented as a nested composition of the parent-child equations defined by its computation graph."
      ]
    }
  ],
  "metadata": {
    "kernelspec": {
      "display_name": "Python 3",
      "language": "python",
      "name": "python3"
    },
    "language_info": {
      "codemirror_mode": {
        "name": "ipython",
        "version": 3
      },
      "file_extension": ".py",
      "mimetype": "text/x-python",
      "name": "python",
      "nbconvert_exporter": "python",
      "pygments_lexer": "ipython3",
      "version": "3.7.2"
    },
    "toc": {
      "colors": {
        "hover_highlight": "#DAA520",
        "navigate_num": "#000000",
        "navigate_text": "#333333",
        "running_highlight": "#FF0000",
        "selected_highlight": "#FFD700",
        "sidebar_border": "#EEEEEE",
        "wrapper_background": "#FFFFFF"
      },
      "moveMenuLeft": true,
      "nav_menu": {
        "height": "318px",
        "width": "252px"
      },
      "navigate_menu": true,
      "number_sections": false,
      "sideBar": true,
      "threshold": 4,
      "toc_cell": false,
      "toc_section_display": "block",
      "toc_window_display": false,
      "widenNotebook": false
    },
    "colab": {
      "provenance": [],
      "include_colab_link": true
    }
  },
  "nbformat": 4,
  "nbformat_minor": 0
}